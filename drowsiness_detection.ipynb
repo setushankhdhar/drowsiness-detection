{
 "cells": [
  {
   "cell_type": "code",
   "execution_count": 21,
   "id": "7de81a98",
   "metadata": {},
   "outputs": [],
   "source": [
    "# Import necessary libraries\n",
    "import cv2\n",
    "import numpy as np\n",
    "import os\n",
    "import time\n",
    "from keras.models import load_model\n",
    "from pygame import mixer\n"
   ]
  },
  {
   "cell_type": "code",
   "execution_count": 22,
   "id": "c495cd6d",
   "metadata": {},
   "outputs": [],
   "source": [
    "# Initialize sound mixer and load alarm sound\n",
    "mixer.init()\n",
    "sound = mixer.Sound('alarm.mp3')  # Make sure 'alarm.wav' is in the same folder\n"
   ]
  },
  {
   "cell_type": "code",
   "execution_count": 23,
   "id": "6cd7448f",
   "metadata": {},
   "outputs": [
    {
     "name": "stderr",
     "output_type": "stream",
     "text": [
      "WARNING:absl:Compiled the loaded model, but the compiled metrics have yet to be built. `model.compile_metrics` will be empty until you train or evaluate the model.\n"
     ]
    }
   ],
   "source": [
    "# Load Haar Cascade classifiers for face and eyes\n",
    "rpred = 1  # Assume open\n",
    "lpred = 1  # Assume open\n",
    "\n",
    "face = cv2.CascadeClassifier('haar cascade files/haarcascade_frontalface_alt.xml')\n",
    "leye = cv2.CascadeClassifier('haar cascade files/haarcascade_lefteye_2splits.xml')\n",
    "reye = cv2.CascadeClassifier('haar cascade files/haarcascade_righteye_2splits.xml')\n",
    "\n",
    "# Load the trained CNN model for eye state detection\n",
    "model = load_model('models/cnncat2.h5')\n"
   ]
  },
  {
   "cell_type": "code",
   "execution_count": 48,
   "id": "a2776dd0",
   "metadata": {},
   "outputs": [],
   "source": [
    "# Initialize webcam and constants\n",
    "labels = ['Closed', 'Open']\n",
    "cap = cv2.VideoCapture(0)  # Start webcam capture\n",
    "font = cv2.FONT_HERSHEY_COMPLEX_SMALL\n",
    "\n",
    "# Initialize control variables\n",
    "frame_counter = 0         # Counts frames processed\n",
    "score = 0                 # Eye closure score\n",
    "thickness = 2             # Thickness for alert rectangle\n",
    "rpred = [99]              # Right eye prediction placeholder\n",
    "lpred = [99]              # Left eye prediction placeholder\n",
    "alarm_on = False          # Alarm state flag\n",
    "project_path = os.getcwd()  # Current working directory\n"
   ]
  },
  {
   "cell_type": "code",
   "execution_count": 49,
   "id": "3a736ec4",
   "metadata": {},
   "outputs": [],
   "source": [
    "while True:\n",
    "    ret, frame = cap.read()\n",
    "    if not ret:\n",
    "        print(\"❌ Failed to capture frame from webcam.\")\n",
    "        break\n",
    "\n",
    "    height, width = frame.shape[:2]\n",
    "    gray = cv2.cvtColor(frame, cv2.COLOR_BGR2GRAY)\n",
    "\n",
    "    faces = face.detectMultiScale(gray, scaleFactor=1.1, minNeighbors=5)\n",
    "    left_eye = leye.detectMultiScale(gray)\n",
    "    right_eye = reye.detectMultiScale(gray)\n",
    "\n",
    "    rpred = 1  # Default to open\n",
    "    lpred = 1\n",
    "\n",
    "    for (x, y, w, h) in right_eye:\n",
    "        r_eye = frame[y:y+h, x:x+w]\n",
    "        r_eye = cv2.cvtColor(r_eye, cv2.COLOR_BGR2GRAY)\n",
    "        r_eye = cv2.resize(r_eye, (24, 24))\n",
    "        r_eye = r_eye / 255.0\n",
    "        r_eye = r_eye.reshape(1, 24, 24, 1)\n",
    "        rpred = model.predict(r_eye, verbose=0).argmax(axis=1)[0]\n",
    "        break\n",
    "\n",
    "    for (x, y, w, h) in left_eye:\n",
    "        l_eye = frame[y:y+h, x:x+w]\n",
    "        l_eye = cv2.cvtColor(l_eye, cv2.COLOR_BGR2GRAY)\n",
    "        l_eye = cv2.resize(l_eye, (24, 24))\n",
    "        l_eye = l_eye / 255.0\n",
    "        l_eye = l_eye.reshape(1, 24, 24, 1)\n",
    "        lpred = model.predict(l_eye, verbose=0).argmax(axis=1)[0]\n",
    "        break\n",
    "\n",
    "    if rpred == 0 and lpred == 0:\n",
    "        score += 1\n",
    "        cv2.putText(frame, \"Eyes Closed\", (10, height - 20), font, 1, (0, 0, 255), 2)\n",
    "    else:\n",
    "        score = 0\n",
    "        cv2.putText(frame, \"Eyes Open\", (10, height - 20), font, 1, (0, 255, 0), 2)\n",
    "        if alarm_on:\n",
    "            sound.stop()\n",
    "            alarm_on = False\n",
    "\n",
    "    if score >= 5:\n",
    "        if not alarm_on:\n",
    "            sound.play(-1)\n",
    "            alarm_on = True\n",
    "\n",
    "    cv2.putText(frame, f\"Score: {score}\", (400, height - 20), font, 1, (255, 255, 255), 1)\n",
    "    cv2.imshow('Driver Drowsiness Detection', frame)\n",
    "\n",
    "    if cv2.waitKey(1) & 0xFF == ord('q'):\n",
    "        break\n",
    "\n",
    "cap.release()\n",
    "cv2.destroyAllWindows()\n",
    "sound.stop()\n"
   ]
  },
  {
   "cell_type": "code",
   "execution_count": null,
   "id": "991412bd",
   "metadata": {},
   "outputs": [],
   "source": []
  }
 ],
 "metadata": {
  "kernelspec": {
   "display_name": "hello",
   "language": "python",
   "name": "python3"
  },
  "language_info": {
   "codemirror_mode": {
    "name": "ipython",
    "version": 3
   },
   "file_extension": ".py",
   "mimetype": "text/x-python",
   "name": "python",
   "nbconvert_exporter": "python",
   "pygments_lexer": "ipython3",
   "version": "3.13.2"
  }
 },
 "nbformat": 4,
 "nbformat_minor": 5
}
